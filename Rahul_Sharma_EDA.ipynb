{
  "nbformat": 4,
  "nbformat_minor": 0,
  "metadata": {
    "colab": {
      "provenance": []
    },
    "kernelspec": {
      "name": "python3",
      "display_name": "Python 3"
    },
    "language_info": {
      "name": "python"
    }
  },
  "cells": [
    {
      "cell_type": "markdown",
      "source": [
        "Step 1: Load and Prepare Data"
      ],
      "metadata": {
        "id": "7fQN_YIgmx4s"
      }
    },
    {
      "cell_type": "markdown",
      "source": [
        "1. Upload and Read CSV Files:"
      ],
      "metadata": {
        "id": "lUDd6zkom6iU"
      }
    },
    {
      "cell_type": "code",
      "execution_count": 50,
      "metadata": {
        "colab": {
          "base_uri": "https://localhost:8080/",
          "height": 142
        },
        "id": "hz6XMKbllU2j",
        "outputId": "eb0fbedb-6f2a-4c27-91c1-a8608ec65dec"
      },
      "outputs": [
        {
          "output_type": "display_data",
          "data": {
            "text/plain": [
              "<IPython.core.display.HTML object>"
            ],
            "text/html": [
              "\n",
              "     <input type=\"file\" id=\"files-50ec28bd-c80e-4f74-8fd1-79f866f346cb\" name=\"files[]\" multiple disabled\n",
              "        style=\"border:none\" />\n",
              "     <output id=\"result-50ec28bd-c80e-4f74-8fd1-79f866f346cb\">\n",
              "      Upload widget is only available when the cell has been executed in the\n",
              "      current browser session. Please rerun this cell to enable.\n",
              "      </output>\n",
              "      <script>// Copyright 2017 Google LLC\n",
              "//\n",
              "// Licensed under the Apache License, Version 2.0 (the \"License\");\n",
              "// you may not use this file except in compliance with the License.\n",
              "// You may obtain a copy of the License at\n",
              "//\n",
              "//      http://www.apache.org/licenses/LICENSE-2.0\n",
              "//\n",
              "// Unless required by applicable law or agreed to in writing, software\n",
              "// distributed under the License is distributed on an \"AS IS\" BASIS,\n",
              "// WITHOUT WARRANTIES OR CONDITIONS OF ANY KIND, either express or implied.\n",
              "// See the License for the specific language governing permissions and\n",
              "// limitations under the License.\n",
              "\n",
              "/**\n",
              " * @fileoverview Helpers for google.colab Python module.\n",
              " */\n",
              "(function(scope) {\n",
              "function span(text, styleAttributes = {}) {\n",
              "  const element = document.createElement('span');\n",
              "  element.textContent = text;\n",
              "  for (const key of Object.keys(styleAttributes)) {\n",
              "    element.style[key] = styleAttributes[key];\n",
              "  }\n",
              "  return element;\n",
              "}\n",
              "\n",
              "// Max number of bytes which will be uploaded at a time.\n",
              "const MAX_PAYLOAD_SIZE = 100 * 1024;\n",
              "\n",
              "function _uploadFiles(inputId, outputId) {\n",
              "  const steps = uploadFilesStep(inputId, outputId);\n",
              "  const outputElement = document.getElementById(outputId);\n",
              "  // Cache steps on the outputElement to make it available for the next call\n",
              "  // to uploadFilesContinue from Python.\n",
              "  outputElement.steps = steps;\n",
              "\n",
              "  return _uploadFilesContinue(outputId);\n",
              "}\n",
              "\n",
              "// This is roughly an async generator (not supported in the browser yet),\n",
              "// where there are multiple asynchronous steps and the Python side is going\n",
              "// to poll for completion of each step.\n",
              "// This uses a Promise to block the python side on completion of each step,\n",
              "// then passes the result of the previous step as the input to the next step.\n",
              "function _uploadFilesContinue(outputId) {\n",
              "  const outputElement = document.getElementById(outputId);\n",
              "  const steps = outputElement.steps;\n",
              "\n",
              "  const next = steps.next(outputElement.lastPromiseValue);\n",
              "  return Promise.resolve(next.value.promise).then((value) => {\n",
              "    // Cache the last promise value to make it available to the next\n",
              "    // step of the generator.\n",
              "    outputElement.lastPromiseValue = value;\n",
              "    return next.value.response;\n",
              "  });\n",
              "}\n",
              "\n",
              "/**\n",
              " * Generator function which is called between each async step of the upload\n",
              " * process.\n",
              " * @param {string} inputId Element ID of the input file picker element.\n",
              " * @param {string} outputId Element ID of the output display.\n",
              " * @return {!Iterable<!Object>} Iterable of next steps.\n",
              " */\n",
              "function* uploadFilesStep(inputId, outputId) {\n",
              "  const inputElement = document.getElementById(inputId);\n",
              "  inputElement.disabled = false;\n",
              "\n",
              "  const outputElement = document.getElementById(outputId);\n",
              "  outputElement.innerHTML = '';\n",
              "\n",
              "  const pickedPromise = new Promise((resolve) => {\n",
              "    inputElement.addEventListener('change', (e) => {\n",
              "      resolve(e.target.files);\n",
              "    });\n",
              "  });\n",
              "\n",
              "  const cancel = document.createElement('button');\n",
              "  inputElement.parentElement.appendChild(cancel);\n",
              "  cancel.textContent = 'Cancel upload';\n",
              "  const cancelPromise = new Promise((resolve) => {\n",
              "    cancel.onclick = () => {\n",
              "      resolve(null);\n",
              "    };\n",
              "  });\n",
              "\n",
              "  // Wait for the user to pick the files.\n",
              "  const files = yield {\n",
              "    promise: Promise.race([pickedPromise, cancelPromise]),\n",
              "    response: {\n",
              "      action: 'starting',\n",
              "    }\n",
              "  };\n",
              "\n",
              "  cancel.remove();\n",
              "\n",
              "  // Disable the input element since further picks are not allowed.\n",
              "  inputElement.disabled = true;\n",
              "\n",
              "  if (!files) {\n",
              "    return {\n",
              "      response: {\n",
              "        action: 'complete',\n",
              "      }\n",
              "    };\n",
              "  }\n",
              "\n",
              "  for (const file of files) {\n",
              "    const li = document.createElement('li');\n",
              "    li.append(span(file.name, {fontWeight: 'bold'}));\n",
              "    li.append(span(\n",
              "        `(${file.type || 'n/a'}) - ${file.size} bytes, ` +\n",
              "        `last modified: ${\n",
              "            file.lastModifiedDate ? file.lastModifiedDate.toLocaleDateString() :\n",
              "                                    'n/a'} - `));\n",
              "    const percent = span('0% done');\n",
              "    li.appendChild(percent);\n",
              "\n",
              "    outputElement.appendChild(li);\n",
              "\n",
              "    const fileDataPromise = new Promise((resolve) => {\n",
              "      const reader = new FileReader();\n",
              "      reader.onload = (e) => {\n",
              "        resolve(e.target.result);\n",
              "      };\n",
              "      reader.readAsArrayBuffer(file);\n",
              "    });\n",
              "    // Wait for the data to be ready.\n",
              "    let fileData = yield {\n",
              "      promise: fileDataPromise,\n",
              "      response: {\n",
              "        action: 'continue',\n",
              "      }\n",
              "    };\n",
              "\n",
              "    // Use a chunked sending to avoid message size limits. See b/62115660.\n",
              "    let position = 0;\n",
              "    do {\n",
              "      const length = Math.min(fileData.byteLength - position, MAX_PAYLOAD_SIZE);\n",
              "      const chunk = new Uint8Array(fileData, position, length);\n",
              "      position += length;\n",
              "\n",
              "      const base64 = btoa(String.fromCharCode.apply(null, chunk));\n",
              "      yield {\n",
              "        response: {\n",
              "          action: 'append',\n",
              "          file: file.name,\n",
              "          data: base64,\n",
              "        },\n",
              "      };\n",
              "\n",
              "      let percentDone = fileData.byteLength === 0 ?\n",
              "          100 :\n",
              "          Math.round((position / fileData.byteLength) * 100);\n",
              "      percent.textContent = `${percentDone}% done`;\n",
              "\n",
              "    } while (position < fileData.byteLength);\n",
              "  }\n",
              "\n",
              "  // All done.\n",
              "  yield {\n",
              "    response: {\n",
              "      action: 'complete',\n",
              "    }\n",
              "  };\n",
              "}\n",
              "\n",
              "scope.google = scope.google || {};\n",
              "scope.google.colab = scope.google.colab || {};\n",
              "scope.google.colab._files = {\n",
              "  _uploadFiles,\n",
              "  _uploadFilesContinue,\n",
              "};\n",
              "})(self);\n",
              "</script> "
            ]
          },
          "metadata": {}
        },
        {
          "output_type": "stream",
          "name": "stdout",
          "text": [
            "Saving Transactions.csv to Transactions (2).csv\n",
            "Saving Products.csv to Products (2).csv\n",
            "Saving Customers.csv to Customers (2).csv\n"
          ]
        }
      ],
      "source": [
        "from google.colab import files\n",
        "uploaded = files.upload()\n"
      ]
    },
    {
      "cell_type": "markdown",
      "source": [
        "Upload Customers.csv, Products.csv, and Transactions.csv."
      ],
      "metadata": {
        "id": "y7Bd1o8Cnn69"
      }
    },
    {
      "cell_type": "code",
      "source": [
        "import pandas as pd\n",
        "\n",
        "# Read the datasets\n",
        "customers = pd.read_csv(\"Customers.csv\")\n",
        "products = pd.read_csv(\"Products.csv\")\n",
        "transactions = pd.read_csv(\"Transactions.csv\")\n",
        "\n",
        "# Preview data\n",
        "print(\"Customers Data:\\n\", customers.head())\n",
        "print(\"Products Data:\\n\", products.head())\n",
        "print(\"Transactions Data:\\n\", transactions.head())\n"
      ],
      "metadata": {
        "colab": {
          "base_uri": "https://localhost:8080/"
        },
        "id": "5Pk1HyEjnl1L",
        "outputId": "43ff30e8-382b-4fa0-ec69-96e0fead92d8"
      },
      "execution_count": 2,
      "outputs": [
        {
          "output_type": "stream",
          "name": "stdout",
          "text": [
            "Customers Data:\n",
            "   CustomerID        CustomerName         Region  SignupDate\n",
            "0      C0001    Lawrence Carroll  South America  2022-07-10\n",
            "1      C0002      Elizabeth Lutz           Asia  2022-02-13\n",
            "2      C0003      Michael Rivera  South America  2024-03-07\n",
            "3      C0004  Kathleen Rodriguez  South America  2022-10-09\n",
            "4      C0005         Laura Weber           Asia  2022-08-15\n",
            "Products Data:\n",
            "   ProductID              ProductName     Category   Price\n",
            "0      P001     ActiveWear Biography        Books  169.30\n",
            "1      P002    ActiveWear Smartwatch  Electronics  346.30\n",
            "2      P003  ComfortLiving Biography        Books   44.12\n",
            "3      P004            BookWorld Rug   Home Decor   95.69\n",
            "4      P005          TechPro T-Shirt     Clothing  429.31\n",
            "Transactions Data:\n",
            "   TransactionID CustomerID ProductID      TransactionDate  Quantity  \\\n",
            "0        T00001      C0199      P067  2024-08-25 12:38:23         1   \n",
            "1        T00112      C0146      P067  2024-05-27 22:23:54         1   \n",
            "2        T00166      C0127      P067  2024-04-25 07:38:55         1   \n",
            "3        T00272      C0087      P067  2024-03-26 22:55:37         2   \n",
            "4        T00363      C0070      P067  2024-03-21 15:10:10         3   \n",
            "\n",
            "   TotalValue   Price  \n",
            "0      300.68  300.68  \n",
            "1      300.68  300.68  \n",
            "2      300.68  300.68  \n",
            "3      601.36  300.68  \n",
            "4      902.04  300.68  \n"
          ]
        }
      ]
    },
    {
      "cell_type": "markdown",
      "source": [
        "2. Merge Datasets: Combine Transactions.csv with Products.csv and Customers.csv for analysis."
      ],
      "metadata": {
        "id": "gFKKMd7Fn3tw"
      }
    },
    {
      "cell_type": "code",
      "source": [
        "# Merge transactions with products\n",
        "transactions_products = pd.merge(transactions, products, on=\"ProductID\", how=\"left\")\n",
        "\n",
        "# Merge the result with customers\n",
        "merged_data = pd.merge(transactions_products, customers, on=\"CustomerID\", how=\"left\")\n",
        "\n",
        "# Preview the merged dataset\n",
        "print(\"Merged Dataset:\\n\", merged_data.head())\n"
      ],
      "metadata": {
        "colab": {
          "base_uri": "https://localhost:8080/"
        },
        "id": "a6F5vWLfn3EX",
        "outputId": "694385f0-69c6-4a45-a360-f29f5857efd7"
      },
      "execution_count": 3,
      "outputs": [
        {
          "output_type": "stream",
          "name": "stdout",
          "text": [
            "Merged Dataset:\n",
            "   TransactionID CustomerID ProductID      TransactionDate  Quantity  \\\n",
            "0        T00001      C0199      P067  2024-08-25 12:38:23         1   \n",
            "1        T00112      C0146      P067  2024-05-27 22:23:54         1   \n",
            "2        T00166      C0127      P067  2024-04-25 07:38:55         1   \n",
            "3        T00272      C0087      P067  2024-03-26 22:55:37         2   \n",
            "4        T00363      C0070      P067  2024-03-21 15:10:10         3   \n",
            "\n",
            "   TotalValue  Price_x                      ProductName     Category  Price_y  \\\n",
            "0      300.68   300.68  ComfortLiving Bluetooth Speaker  Electronics   300.68   \n",
            "1      300.68   300.68  ComfortLiving Bluetooth Speaker  Electronics   300.68   \n",
            "2      300.68   300.68  ComfortLiving Bluetooth Speaker  Electronics   300.68   \n",
            "3      601.36   300.68  ComfortLiving Bluetooth Speaker  Electronics   300.68   \n",
            "4      902.04   300.68  ComfortLiving Bluetooth Speaker  Electronics   300.68   \n",
            "\n",
            "      CustomerName         Region  SignupDate  \n",
            "0   Andrea Jenkins         Europe  2022-12-03  \n",
            "1  Brittany Harvey           Asia  2024-09-04  \n",
            "2  Kathryn Stevens         Europe  2024-04-04  \n",
            "3  Travis Campbell  South America  2024-04-11  \n",
            "4    Timothy Perez         Europe  2022-03-15  \n"
          ]
        }
      ]
    },
    {
      "cell_type": "markdown",
      "source": [
        "Step 2: Perform EDA"
      ],
      "metadata": {
        "id": "4dRESHQHoB3J"
      }
    },
    {
      "cell_type": "markdown",
      "source": [
        "1. Basic Dataset Overview:"
      ],
      "metadata": {
        "id": "iyJmGPLSoiv3"
      }
    },
    {
      "cell_type": "code",
      "source": [
        "# Check missing values\n",
        "print(\"Missing Values:\\n\", merged_data.isnull().sum())\n",
        "\n",
        "# Check data types\n",
        "print(\"\\nData Types:\\n\", merged_data.dtypes)\n",
        "\n",
        "# Check for duplicates\n",
        "print(\"\\nDuplicates in Merged Data:\", merged_data.duplicated().sum())\n"
      ],
      "metadata": {
        "colab": {
          "base_uri": "https://localhost:8080/"
        },
        "id": "LZpE0pmloBdG",
        "outputId": "0c495cd1-a901-4215-9ab1-7129e5b4097b"
      },
      "execution_count": 4,
      "outputs": [
        {
          "output_type": "stream",
          "name": "stdout",
          "text": [
            "Missing Values:\n",
            " TransactionID      0\n",
            "CustomerID         0\n",
            "ProductID          0\n",
            "TransactionDate    0\n",
            "Quantity           0\n",
            "TotalValue         0\n",
            "Price_x            0\n",
            "ProductName        0\n",
            "Category           0\n",
            "Price_y            0\n",
            "CustomerName       0\n",
            "Region             0\n",
            "SignupDate         0\n",
            "dtype: int64\n",
            "\n",
            "Data Types:\n",
            " TransactionID       object\n",
            "CustomerID          object\n",
            "ProductID           object\n",
            "TransactionDate     object\n",
            "Quantity             int64\n",
            "TotalValue         float64\n",
            "Price_x            float64\n",
            "ProductName         object\n",
            "Category            object\n",
            "Price_y            float64\n",
            "CustomerName        object\n",
            "Region              object\n",
            "SignupDate          object\n",
            "dtype: object\n",
            "\n",
            "Duplicates in Merged Data: 0\n"
          ]
        }
      ]
    },
    {
      "cell_type": "markdown",
      "source": [
        "2. Descriptive Statistics:"
      ],
      "metadata": {
        "id": "KqXWkwlNoqEu"
      }
    },
    {
      "cell_type": "code",
      "source": [
        "# Summary statistics for numeric columns\n",
        "print(\"\\nSummary Statistics:\\n\", merged_data.describe())\n",
        "\n",
        "# View categorical distributions\n",
        "print(\"\\nCategory-wise Breakdown:\\n\", merged_data[\"Category\"].value_counts())\n",
        "print(\"\\nRegion-wise Breakdown:\\n\", merged_data[\"Region\"].value_counts())\n"
      ],
      "metadata": {
        "colab": {
          "base_uri": "https://localhost:8080/"
        },
        "id": "2oTPVlWKotDq",
        "outputId": "8f62eeaf-106f-4c14-bf52-19c357a46882"
      },
      "execution_count": 5,
      "outputs": [
        {
          "output_type": "stream",
          "name": "stdout",
          "text": [
            "\n",
            "Summary Statistics:\n",
            "           Quantity   TotalValue     Price_x     Price_y\n",
            "count  1000.000000  1000.000000  1000.00000  1000.00000\n",
            "mean      2.537000   689.995560   272.55407   272.55407\n",
            "std       1.117981   493.144478   140.73639   140.73639\n",
            "min       1.000000    16.080000    16.08000    16.08000\n",
            "25%       2.000000   295.295000   147.95000   147.95000\n",
            "50%       3.000000   588.880000   299.93000   299.93000\n",
            "75%       4.000000  1011.660000   404.40000   404.40000\n",
            "max       4.000000  1991.040000   497.76000   497.76000\n",
            "\n",
            "Category-wise Breakdown:\n",
            " Category\n",
            "Books          270\n",
            "Electronics    254\n",
            "Home Decor     248\n",
            "Clothing       228\n",
            "Name: count, dtype: int64\n",
            "\n",
            "Region-wise Breakdown:\n",
            " Region\n",
            "South America    304\n",
            "North America    244\n",
            "Europe           234\n",
            "Asia             218\n",
            "Name: count, dtype: int64\n"
          ]
        }
      ]
    },
    {
      "cell_type": "markdown",
      "source": [
        "3. Example EDA Analyses:\n",
        "   -Sales by Region:"
      ],
      "metadata": {
        "id": "Kn7QQwMSoxzQ"
      }
    },
    {
      "cell_type": "code",
      "source": [
        "region_sales = merged_data.groupby(\"Region\")[\"TotalValue\"].sum().sort_values(ascending=False)\n",
        "print(\"Sales by Region:\\n\", region_sales)\n"
      ],
      "metadata": {
        "colab": {
          "base_uri": "https://localhost:8080/"
        },
        "id": "_RzC1YRyo1t7",
        "outputId": "6dd5a175-333b-4b77-a5bc-ffbe8fb67f96"
      },
      "execution_count": 6,
      "outputs": [
        {
          "output_type": "stream",
          "name": "stdout",
          "text": [
            "Sales by Region:\n",
            " Region\n",
            "South America    219352.56\n",
            "Europe           166254.63\n",
            "North America    152313.40\n",
            "Asia             152074.97\n",
            "Name: TotalValue, dtype: float64\n"
          ]
        }
      ]
    },
    {
      "cell_type": "markdown",
      "source": [
        "Top-Selling Products:"
      ],
      "metadata": {
        "id": "FHRo-Tk3o-_T"
      }
    },
    {
      "cell_type": "code",
      "source": [
        "top_products = merged_data.groupby(\"ProductName\")[\"Quantity\"].sum().sort_values(ascending=False).head(10)\n",
        "print(\"Top-Selling Products:\\n\", top_products)\n"
      ],
      "metadata": {
        "colab": {
          "base_uri": "https://localhost:8080/"
        },
        "id": "7crPT8kNpCmm",
        "outputId": "a215c519-2e6e-44e2-d55f-ba0f92ec39a9"
      },
      "execution_count": 7,
      "outputs": [
        {
          "output_type": "stream",
          "name": "stdout",
          "text": [
            "Top-Selling Products:\n",
            " ProductName\n",
            "ActiveWear Smartwatch    100\n",
            "SoundWave Headphones      97\n",
            "HomeSense Desk Lamp       81\n",
            "ActiveWear Rug            79\n",
            "SoundWave Cookbook        78\n",
            "ActiveWear Jacket         76\n",
            "BookWorld Biography       71\n",
            "TechPro T-Shirt           66\n",
            "SoundWave Desk Lamp       64\n",
            "TechPro Textbook          62\n",
            "Name: Quantity, dtype: int64\n"
          ]
        }
      ]
    },
    {
      "cell_type": "markdown",
      "source": [
        "Monthly Sales Trend:"
      ],
      "metadata": {
        "id": "R0BeOtIwpHZG"
      }
    },
    {
      "cell_type": "code",
      "source": [
        "# Convert TransactionDate to datetime\n",
        "merged_data[\"TransactionDate\"] = pd.to_datetime(merged_data[\"TransactionDate\"])\n",
        "\n",
        "# Extract month and year\n",
        "merged_data[\"Month\"] = merged_data[\"TransactionDate\"].dt.to_period(\"M\")\n",
        "\n",
        "monthly_sales = merged_data.groupby(\"Month\")[\"TotalValue\"].sum()\n",
        "print(\"Monthly Sales Trend:\\n\", monthly_sales)\n"
      ],
      "metadata": {
        "colab": {
          "base_uri": "https://localhost:8080/"
        },
        "id": "XNoeiARApEts",
        "outputId": "31ba01ab-0fc9-483b-fbfa-e811699921f2"
      },
      "execution_count": 8,
      "outputs": [
        {
          "output_type": "stream",
          "name": "stdout",
          "text": [
            "Monthly Sales Trend:\n",
            " Month\n",
            "2023-12     3769.52\n",
            "2024-01    66376.39\n",
            "2024-02    51459.27\n",
            "2024-03    47828.73\n",
            "2024-04    57519.06\n",
            "2024-05    64527.74\n",
            "2024-06    48771.18\n",
            "2024-07    71366.39\n",
            "2024-08    63436.74\n",
            "2024-09    70603.75\n",
            "2024-10    47063.22\n",
            "2024-11    38224.37\n",
            "2024-12    59049.20\n",
            "Freq: M, Name: TotalValue, dtype: float64\n"
          ]
        }
      ]
    },
    {
      "cell_type": "markdown",
      "source": [
        "Customer Lifetime Value:"
      ],
      "metadata": {
        "id": "o25pNUy0pNHb"
      }
    },
    {
      "cell_type": "code",
      "source": [
        "customer_ltv = merged_data.groupby(\"CustomerID\")[\"TotalValue\"].sum().sort_values(ascending=False).head(10)\n",
        "print(\"Top 10 Customers by Lifetime Value:\\n\", customer_ltv)\n"
      ],
      "metadata": {
        "colab": {
          "base_uri": "https://localhost:8080/"
        },
        "id": "HJycsLkupLtD",
        "outputId": "89939081-44d0-44e9-8f92-eff5df85e433"
      },
      "execution_count": 9,
      "outputs": [
        {
          "output_type": "stream",
          "name": "stdout",
          "text": [
            "Top 10 Customers by Lifetime Value:\n",
            " CustomerID\n",
            "C0141    10673.87\n",
            "C0054     8040.39\n",
            "C0065     7663.70\n",
            "C0156     7634.45\n",
            "C0082     7572.91\n",
            "C0188     7111.32\n",
            "C0059     7073.28\n",
            "C0028     6819.57\n",
            "C0099     6715.72\n",
            "C0165     6708.10\n",
            "Name: TotalValue, dtype: float64\n"
          ]
        }
      ]
    },
    {
      "cell_type": "markdown",
      "source": [
        "Product Category Analysis:"
      ],
      "metadata": {
        "id": "QcHwuX82pSrl"
      }
    },
    {
      "cell_type": "code",
      "source": [
        "category_sales = merged_data.groupby(\"Category\")[\"TotalValue\"].sum().sort_values(ascending=False)\n",
        "print(\"Category-Wise Sales:\\n\", category_sales)\n"
      ],
      "metadata": {
        "colab": {
          "base_uri": "https://localhost:8080/"
        },
        "id": "_Whg4-tNpRE_",
        "outputId": "b02e56e5-c7e4-46f6-ad96-6bc422ee154e"
      },
      "execution_count": 10,
      "outputs": [
        {
          "output_type": "stream",
          "name": "stdout",
          "text": [
            "Category-Wise Sales:\n",
            " Category\n",
            "Books          192147.47\n",
            "Electronics    180783.50\n",
            "Clothing       166170.66\n",
            "Home Decor     150893.93\n",
            "Name: TotalValue, dtype: float64\n"
          ]
        }
      ]
    },
    {
      "cell_type": "markdown",
      "source": [
        "Step 3: Visualize Key Insights\n"
      ],
      "metadata": {
        "id": "61ByyUtgpdXZ"
      }
    },
    {
      "cell_type": "markdown",
      "source": [
        "1. Region-Wise Sales (Bar Plot):"
      ],
      "metadata": {
        "id": "vwGNGLyBphhQ"
      }
    },
    {
      "cell_type": "code",
      "source": [
        "import matplotlib.pyplot as plt\n",
        "\n",
        "region_sales.plot(kind=\"bar\", color=\"skyblue\", figsize=(8, 6))\n",
        "plt.title(\"Sales by Region\")\n",
        "plt.xlabel(\"Region\")\n",
        "plt.ylabel(\"Total Sales (USD)\")\n",
        "plt.xticks(rotation=45)\n",
        "plt.show()\n"
      ],
      "metadata": {
        "colab": {
          "base_uri": "https://localhost:8080/",
          "height": 632
        },
        "id": "im_ndLY6pWbc",
        "outputId": "1319aa9b-8d34-4b9d-e6f7-60bf67c6735b"
      },
      "execution_count": 11,
      "outputs": [
        {
          "output_type": "display_data",
          "data": {
            "text/plain": [
              "<Figure size 800x600 with 1 Axes>"
            ],
            "image/png": "[encoded data removed]"
          },
          "metadata": {}
        }
      ]
    },
    {
      "cell_type": "markdown",
      "source": [
        "2. Monthly Sales Trend (Line Plot):"
      ],
      "metadata": {
        "id": "D3E_elhypoF6"
      }
    },
    {
      "cell_type": "code",
      "source": [
        "monthly_sales.plot(kind=\"line\", figsize=(10, 6), marker=\"o\", color=\"orange\")\n",
        "plt.title(\"Monthly Sales Trend\")\n",
        "plt.xlabel(\"Month\")\n",
        "plt.ylabel(\"Total Sales (USD)\")\n",
        "plt.grid()\n",
        "plt.show()\n"
      ],
      "metadata": {
        "colab": {
          "base_uri": "https://localhost:8080/",
          "height": 564
        },
        "id": "OCDxpgWipkzm",
        "outputId": "7c5be987-bd51-4d89-8912-c1422cb93b5f"
      },
      "execution_count": 12,
      "outputs": [
        {
          "output_type": "display_data",
          "data": {
            "text/plain": [
              "<Figure size 1000x600 with 1 Axes>"
            ],
            "image/png": "[encoded data removed]"
          },
          "metadata": {}
        }
      ]
    },
    {
      "cell_type": "markdown",
      "source": [
        "3. Top-Selling Products (Horizontal Bar Plot):"
      ],
      "metadata": {
        "id": "ATPvxe9RpsWH"
      }
    },
    {
      "cell_type": "code",
      "source": [
        "top_products.plot(kind=\"barh\", color=\"green\", figsize=(8, 6))\n",
        "plt.title(\"Top 10 Best-Selling Products\")\n",
        "plt.xlabel(\"Total Quantity Sold\")\n",
        "plt.ylabel(\"Product Name\")\n",
        "plt.show()\n"
      ],
      "metadata": {
        "colab": {
          "base_uri": "https://localhost:8080/",
          "height": 564
        },
        "id": "Hj1LSAGfpqyT",
        "outputId": "1f83fa24-26cc-4893-95ef-f4783e412ddd"
      },
      "execution_count": 13,
      "outputs": [
        {
          "output_type": "display_data",
          "data": {
            "text/plain": [
              "<Figure size 800x600 with 1 Axes>"
            ],
            "image/png": "[encoded data removed]"
          },
          "metadata": {}
        }
      ]
    },
    {
      "cell_type": "markdown",
      "source": [
        "4. Category-Wise Sales Distribution (Pie Chart):"
      ],
      "metadata": {
        "id": "F67lqr2zp06z"
      }
    },
    {
      "cell_type": "code",
      "source": [
        "category_sales.plot(kind=\"pie\", autopct=\"%.1f%%\", figsize=(8, 8))\n",
        "plt.title(\"Category-Wise Sales Distribution\")\n",
        "plt.ylabel(\"\")\n",
        "plt.show()\n"
      ],
      "metadata": {
        "colab": {
          "base_uri": "https://localhost:8080/",
          "height": 675
        },
        "id": "FbCbddZspxXs",
        "outputId": "fd78dc49-ec73-4b47-ef69-df0ca8854059"
      },
      "execution_count": 14,
      "outputs": [
        {
          "output_type": "display_data",
          "data": {
            "text/plain": [
              "<Figure size 800x800 with 1 Axes>"
            ],
            "image/png": "[encoded data removed]"
          },
          "metadata": {}
        }
      ]
    },
    {
      "cell_type": "markdown",
      "source": [
        "Step 4: Detailed Report PDF (/content/Rahul_Sharma_Business_Insights_Report.pdf)\n",
        "Step 5: Save and Export Deliverables"
      ],
      "metadata": {
        "id": "dOCPMNkwr8Wy"
      }
    },
    {
      "cell_type": "markdown",
      "source": [
        "Task 2: Lookalike Model"
      ],
      "metadata": {
        "id": "VD0PbxprsZbv"
      }
    },
    {
      "cell_type": "markdown",
      "source": [
        "Step 1: Import Libraries"
      ],
      "metadata": {
        "id": "u-DdsbD33_WK"
      }
    },
    {
      "cell_type": "code",
      "source": [
        "import pandas as pd\n",
        "import numpy as np\n",
        "from sklearn.metrics.pairwise import cosine_similarity\n",
        "from sklearn.preprocessing import StandardScaler\n"
      ],
      "metadata": {
        "id": "UuaefpE6sbdv"
      },
      "execution_count": 16,
      "outputs": []
    },
    {
      "cell_type": "markdown",
      "source": [
        "Step 2: Load the Data"
      ],
      "metadata": {
        "id": "r8N30zmu4MSa"
      }
    },
    {
      "cell_type": "code",
      "source": [
        "# Load the data\n",
        "customers_df = pd.read_csv(\"Customers.csv\")\n",
        "products_df = pd.read_csv(\"Products.csv\")\n",
        "transactions_df = pd.read_csv(\"Transactions.csv\")\n"
      ],
      "metadata": {
        "id": "4PA1KCHk4Bpa"
      },
      "execution_count": 18,
      "outputs": []
    },
    {
      "cell_type": "markdown",
      "source": [
        "Step 3: Merge the Data"
      ],
      "metadata": {
        "id": "-B7ihpvc4QPi"
      }
    },
    {
      "cell_type": "code",
      "source": [
        "# Merge customers with transactions\n",
        "customer_transactions = pd.merge(transactions_df, customers_df, on=\"CustomerID\", how=\"left\")\n"
      ],
      "metadata": {
        "id": "ZF0i-3kS4FVN"
      },
      "execution_count": 19,
      "outputs": []
    },
    {
      "cell_type": "code",
      "source": [
        "# Merge transactions with products\n",
        "customer_transactions = pd.merge(customer_transactions, products_df, on=\"ProductID\", how=\"left\")\n"
      ],
      "metadata": {
        "id": "mHXf5KiF4XRT"
      },
      "execution_count": 20,
      "outputs": []
    },
    {
      "cell_type": "markdown",
      "source": [
        "Step 4: Create a Customer-Product Interaction Matrix"
      ],
      "metadata": {
        "id": "uPkkRcns4dDe"
      }
    },
    {
      "cell_type": "code",
      "source": [
        "# Create a customer-product interaction matrix\n",
        "customer_product_matrix = customer_transactions.pivot_table(\n",
        "    index=\"CustomerID\", columns=\"ProductName\", values=\"TotalValue\", aggfunc=\"sum\", fill_value=0\n",
        ")\n"
      ],
      "metadata": {
        "id": "OrK-FGnf4ZT1"
      },
      "execution_count": 21,
      "outputs": []
    },
    {
      "cell_type": "markdown",
      "source": [
        "Step 5: Normalize the Customer-Product Matrix"
      ],
      "metadata": {
        "id": "7m0t-q0t4qXc"
      }
    },
    {
      "cell_type": "code",
      "source": [
        "# Normalize the matrix (optional, for better similarity calculation)\n",
        "scaler = StandardScaler()\n",
        "customer_product_matrix_scaled = pd.DataFrame(scaler.fit_transform(customer_product_matrix), columns=customer_product_matrix.columns)\n"
      ],
      "metadata": {
        "id": "yVdDuTiX4np_"
      },
      "execution_count": 22,
      "outputs": []
    },
    {
      "cell_type": "markdown",
      "source": [
        "Step 6: Compute Cosine Similarity"
      ],
      "metadata": {
        "id": "r7HmgXPq4yMa"
      }
    },
    {
      "cell_type": "code",
      "source": [
        "# Compute cosine similarity between customers\n",
        "cosine_sim = cosine_similarity(customer_product_matrix_scaled)\n",
        "cosine_sim_df = pd.DataFrame(cosine_sim, index=customer_product_matrix.index, columns=customer_product_matrix.index)\n"
      ],
      "metadata": {
        "id": "C6BvWQtF4tpd"
      },
      "execution_count": 23,
      "outputs": []
    },
    {
      "cell_type": "markdown",
      "source": [
        "Step 7: Generate Recommendations for Lookalikes"
      ],
      "metadata": {
        "id": "669KAHVM43DY"
      }
    },
    {
      "cell_type": "code",
      "source": [
        "# Function to get the top 3 lookalikes for a customer\n",
        "def get_top_lookalikes(customer_id, num_recommendations=3):\n",
        "    sim_scores = cosine_sim_df[customer_id]  # Get the similarity scores for the given customer\n",
        "    sim_scores = sim_scores.drop(customer_id)  # Remove self similarity (since a customer is always most similar to themselves)\n",
        "    top_lookalikes = sim_scores.nlargest(num_recommendations)  # Get the top N similar customers\n",
        "    return top_lookalikes\n"
      ],
      "metadata": {
        "id": "IKEI9gV040Eh"
      },
      "execution_count": 24,
      "outputs": []
    },
    {
      "cell_type": "markdown",
      "source": [
        "Step 8: Get Lookalikes for the First 20 Customers"
      ],
      "metadata": {
        "id": "b9spktHs49f4"
      }
    },
    {
      "cell_type": "code",
      "source": [
        "# Corrected code to ensure proper DataFrame construction and handling recommendations\n",
        "import pandas as pd\n",
        "import numpy as np\n",
        "from sklearn.metrics.pairwise import cosine_similarity\n",
        "\n",
        "# Assuming the customer_product_matrix and cosine_sim_df are already created\n",
        "\n",
        "# Function to get the top 3 lookalikes for a given customer_id\n",
        "def get_top_lookalikes(customer_id, top_n=3):\n",
        "    # Ensure the customer_id exists in the similarity matrix\n",
        "    if customer_id in cosine_sim_df.index:\n",
        "        # Get the similarity scores for the given customer\n",
        "        similarity_scores = cosine_sim_df.loc[customer_id].sort_values(ascending=False)\n",
        "\n",
        "        # Exclude the customer themselves (similarity score 1 with themselves)\n",
        "        lookalikes = similarity_scores[similarity_scores < 1].head(top_n)\n",
        "\n",
        "        # Return the list of top lookalikes and their similarity scores\n",
        "        return list(zip(lookalikes.index, lookalikes.values))\n",
        "    else:\n",
        "        # If the customer_id is not found in the similarity matrix, return an empty list\n",
        "        return []\n",
        "\n",
        "# Collect recommendations for the first 20 customers\n",
        "lookalike_recommendations = {}\n",
        "\n",
        "for i in range(1, 21):  # CustomerID: C0001 to C0020\n",
        "    customer_id = f\"C00{i}\"  # Generate CustomerID in the format C0001, C0002, ...\n",
        "\n",
        "    # Check if the customer_id exists in the similarity matrix\n",
        "    if customer_id in cosine_sim_df.index:\n",
        "        lookalike_recommendations[customer_id] = get_top_lookalikes(customer_id)\n",
        "    else:\n",
        "        print(f\"Customer ID {customer_id} not found in similarity matrix.\")\n",
        "\n",
        "# Convert the recommendations into a list of tuples (CustomerID, Lookalike_CustomerID, Similarity_Score)\n",
        "recommendations_list = []\n",
        "for customer_id, lookalikes in lookalike_recommendations.items():\n",
        "    for lookalike, score in lookalikes:\n",
        "        recommendations_list.append([customer_id, lookalike, score])\n",
        "\n",
        "# Create a DataFrame from the recommendations list\n",
        "lookalike_df = pd.DataFrame(recommendations_list, columns=['CustomerID', 'Lookalike_CustomerID', 'Similarity_Score'])\n",
        "\n",
        "# Save the lookalike recommendations to a CSV file\n",
        "lookalike_df.to_csv('/content/Lookalike.csv', index=False)\n",
        "\n",
        "# Display the first few recommendations\n",
        "print(lookalike_df.head())\n",
        "\n"
      ],
      "metadata": {
        "colab": {
          "base_uri": "https://localhost:8080/"
        },
        "id": "ppNsoayG45Xs",
        "outputId": "2fe12e52-6660-42b2-9f39-3e334ee2b0ce"
      },
      "execution_count": 27,
      "outputs": [
        {
          "output_type": "stream",
          "name": "stdout",
          "text": [
            "Customer ID C001 not found in similarity matrix.\n",
            "Customer ID C002 not found in similarity matrix.\n",
            "Customer ID C003 not found in similarity matrix.\n",
            "Customer ID C004 not found in similarity matrix.\n",
            "Customer ID C005 not found in similarity matrix.\n",
            "Customer ID C006 not found in similarity matrix.\n",
            "Customer ID C007 not found in similarity matrix.\n",
            "Customer ID C008 not found in similarity matrix.\n",
            "Customer ID C009 not found in similarity matrix.\n",
            "  CustomerID Lookalike_CustomerID  Similarity_Score\n",
            "0      C0010                C0092          0.785553\n",
            "1      C0010                C0083          0.682416\n",
            "2      C0010                C0029          0.517407\n",
            "3      C0011                C0094          0.548237\n",
            "4      C0011                C0120          0.504136\n"
          ]
        }
      ]
    },
    {
      "cell_type": "markdown",
      "source": [
        "Step 9: Prepare the Output CSV (Lookalike.csv)"
      ],
      "metadata": {
        "id": "wIKTqBYe6FIz"
      }
    },
    {
      "cell_type": "code",
      "source": [
        "# Convert the recommendations to a DataFrame\n",
        "lookalike_df = pd.DataFrame.from_dict(lookalike_recommendations, orient='index')\n",
        "\n",
        "# Rename columns to show the lookalikes (1, 2, 3)\n",
        "lookalike_df.columns = [f\"Lookalike_{i+1}\" for i in range(3)]  # Top 3 recommendations\n",
        "\n",
        "# Save the lookalikes to a CSV file\n",
        "lookalike_df.to_csv(\"Lookalike.csv\")\n"
      ],
      "metadata": {
        "id": "wQLMHOAZ5AMP"
      },
      "execution_count": 28,
      "outputs": []
    },
    {
      "cell_type": "markdown",
      "source": [
        "Task 3: Customer Segmentation / Clustering"
      ],
      "metadata": {
        "id": "vpS6Cx4c7CQw"
      }
    },
    {
      "cell_type": "markdown",
      "source": [
        "Step 1: Data Loading and Preprocessing"
      ],
      "metadata": {
        "id": "Jk1JEgLm7Ddm"
      }
    },
    {
      "cell_type": "code",
      "source": [
        "import pandas as pd\n",
        "\n",
        "# Load the datasets\n",
        "customers = pd.read_csv('Customers.csv')\n",
        "transactions = pd.read_csv('Transactions.csv')\n",
        "\n",
        "# Inspect the columns in both datasets\n",
        "print(\"Customers Columns:\", customers.columns)\n",
        "print(\"Transactions Columns:\", transactions.columns)\n"
      ],
      "metadata": {
        "colab": {
          "base_uri": "https://localhost:8080/"
        },
        "id": "PXvmJUph6LKm",
        "outputId": "ac5570ca-0089-460f-fdf5-01b8545593a0"
      },
      "execution_count": 43,
      "outputs": [
        {
          "output_type": "stream",
          "name": "stdout",
          "text": [
            "Customers Columns: Index(['CustomerID', 'CustomerName', 'Region', 'SignupDate'], dtype='object')\n",
            "Transactions Columns: Index(['TransactionID', 'CustomerID', 'ProductID', 'TransactionDate',\n",
            "       'Quantity', 'TotalValue', 'Price'],\n",
            "      dtype='object')\n"
          ]
        }
      ]
    },
    {
      "cell_type": "markdown",
      "source": [
        "Step 2: Merge the datasets based on a common column"
      ],
      "metadata": {
        "id": "gAox32VQ_FYO"
      }
    },
    {
      "cell_type": "code",
      "source": [
        "# Check the columns of the customers dataset\n",
        "print(\"Customers Columns:\", customers.columns)\n",
        "\n",
        "# Check the columns of the transactions dataset\n",
        "print(\"Transactions Columns:\", transactions.columns)\n"
      ],
      "metadata": {
        "colab": {
          "base_uri": "https://localhost:8080/"
        },
        "id": "gPMZljzU7Oc_",
        "outputId": "fc893356-1f3b-4e1c-a9ce-c3a160ba3234"
      },
      "execution_count": 45,
      "outputs": [
        {
          "output_type": "stream",
          "name": "stdout",
          "text": [
            "Customers Columns: Index(['CustomerID', 'CustomerName', 'Region', 'SignupDate'], dtype='object')\n",
            "Transactions Columns: Index(['TransactionID', 'CustomerID', 'ProductID', 'TransactionDate',\n",
            "       'Quantity', 'TotalValue', 'Price'],\n",
            "      dtype='object')\n"
          ]
        }
      ]
    },
    {
      "cell_type": "markdown",
      "source": [
        "Step 3: merge"
      ],
      "metadata": {
        "id": "aBvyAIBz_YVT"
      }
    },
    {
      "cell_type": "code",
      "source": [
        "# Merge datasets on the 'CustomerID' column\n",
        "data = pd.merge(customers, transactions, on='CustomerID', how='inner')\n",
        "\n",
        "# Inspect the merged data\n",
        "print(data.head())\n"
      ],
      "metadata": {
        "colab": {
          "base_uri": "https://localhost:8080/"
        },
        "id": "ao4PFTtf_HNy",
        "outputId": "0e273d44-6278-41b1-b479-67eec07cd3ac"
      },
      "execution_count": 46,
      "outputs": [
        {
          "output_type": "stream",
          "name": "stdout",
          "text": [
            "  CustomerID      CustomerName         Region  SignupDate TransactionID  \\\n",
            "0      C0001  Lawrence Carroll  South America  2022-07-10        T00015   \n",
            "1      C0001  Lawrence Carroll  South America  2022-07-10        T00932   \n",
            "2      C0001  Lawrence Carroll  South America  2022-07-10        T00085   \n",
            "3      C0001  Lawrence Carroll  South America  2022-07-10        T00445   \n",
            "4      C0001  Lawrence Carroll  South America  2022-07-10        T00436   \n",
            "\n",
            "  ProductID      TransactionDate  Quantity  TotalValue   Price  \n",
            "0      P054  2024-01-19 03:12:55         2      114.60   57.30  \n",
            "1      P022  2024-09-17 09:01:18         3      412.62  137.54  \n",
            "2      P096  2024-04-08 00:01:00         2      614.94  307.47  \n",
            "3      P083  2024-05-07 03:11:44         2      911.44  455.72  \n",
            "4      P029  2024-11-02 17:04:16         3     1300.92  433.64  \n"
          ]
        }
      ]
    },
    {
      "cell_type": "markdown",
      "source": [
        "Step 4: Data Preprocessing"
      ],
      "metadata": {
        "id": "u8MTqyGY_j9V"
      }
    },
    {
      "cell_type": "code",
      "source": [
        "# Check for missing values in the merged data\n",
        "print(data.isnull().sum())\n",
        "\n",
        "# Handle missing values if any (for simplicity, we can drop rows with missing values)\n",
        "data = data.dropna()\n",
        "\n",
        "# Encode categorical features (e.g., 'Region' and 'CustomerName') using one-hot encoding\n",
        "data_encoded = pd.get_dummies(data, columns=['Region', 'CustomerName'], drop_first=True)\n",
        "\n",
        "# Convert 'SignupDate' to datetime and extract relevant features (like year, month)\n",
        "data_encoded['SignupDate'] = pd.to_datetime(data_encoded['SignupDate'])\n",
        "data_encoded['SignupYear'] = data_encoded['SignupDate'].dt.year\n",
        "data_encoded['SignupMonth'] = data_encoded['SignupDate'].dt.month\n",
        "\n",
        "# Drop 'SignupDate' as it's no longer needed\n",
        "data_encoded = data_encoded.drop(columns=['SignupDate'])\n",
        "\n",
        "# Scale numerical features for clustering (e.g., 'Quantity', 'TotalValue', 'Price')\n",
        "from sklearn.preprocessing import StandardScaler\n",
        "scaler = StandardScaler()\n",
        "data_scaled = data_encoded.copy()\n",
        "\n",
        "# List of numerical columns to scale\n",
        "numerical_cols = ['Quantity', 'TotalValue', 'Price', 'SignupYear', 'SignupMonth']\n",
        "data_scaled[numerical_cols] = scaler.fit_transform(data_scaled[numerical_cols])\n",
        "\n",
        "# Check the preprocessed data\n",
        "print(data_scaled.head())\n"
      ],
      "metadata": {
        "colab": {
          "base_uri": "https://localhost:8080/"
        },
        "id": "zXNumG-9_auI",
        "outputId": "151b531b-ac45-46f9-ae59-a92fa0ca1bea"
      },
      "execution_count": 47,
      "outputs": [
        {
          "output_type": "stream",
          "name": "stdout",
          "text": [
            "CustomerID         0\n",
            "CustomerName       0\n",
            "Region             0\n",
            "SignupDate         0\n",
            "TransactionID      0\n",
            "ProductID          0\n",
            "TransactionDate    0\n",
            "Quantity           0\n",
            "TotalValue         0\n",
            "Price              0\n",
            "dtype: int64\n",
            "  CustomerID TransactionID ProductID      TransactionDate  Quantity  \\\n",
            "0      C0001        T00015      P054  2024-01-19 03:12:55 -0.480571   \n",
            "1      C0001        T00932      P022  2024-09-17 09:01:18  0.414347   \n",
            "2      C0001        T00085      P096  2024-04-08 00:01:00 -0.480571   \n",
            "3      C0001        T00445      P083  2024-05-07 03:11:44 -0.480571   \n",
            "4      C0001        T00436      P029  2024-11-02 17:04:16  0.414347   \n",
            "\n",
            "   TotalValue     Price  Region_Europe  Region_North America  \\\n",
            "0   -1.167373 -1.530249          False                 False   \n",
            "1   -0.562745 -0.959820          False                 False   \n",
            "2   -0.152274  0.248219          False                 False   \n",
            "3    0.449270  1.302134          False                 False   \n",
            "4    1.239454  1.145166          False                 False   \n",
            "\n",
            "   Region_South America  ...  CustomerName_Tyler Haynes  \\\n",
            "0                  True  ...                      False   \n",
            "1                  True  ...                      False   \n",
            "2                  True  ...                      False   \n",
            "3                  True  ...                      False   \n",
            "4                  True  ...                      False   \n",
            "\n",
            "   CustomerName_Tyler Holt  CustomerName_Wayne Ferguson  \\\n",
            "0                    False                        False   \n",
            "1                    False                        False   \n",
            "2                    False                        False   \n",
            "3                    False                        False   \n",
            "4                    False                        False   \n",
            "\n",
            "   CustomerName_Wayne Stone  CustomerName_Wendy Browning  \\\n",
            "0                     False                        False   \n",
            "1                     False                        False   \n",
            "2                     False                        False   \n",
            "3                     False                        False   \n",
            "4                     False                        False   \n",
            "\n",
            "   CustomerName_William Adams  CustomerName_William Walker  \\\n",
            "0                       False                        False   \n",
            "1                       False                        False   \n",
            "2                       False                        False   \n",
            "3                       False                        False   \n",
            "4                       False                        False   \n",
            "\n",
            "   CustomerName_Zachary Turner  SignupYear  SignupMonth  \n",
            "0                        False   -1.246819     0.257253  \n",
            "1                        False   -1.246819     0.257253  \n",
            "2                        False   -1.246819     0.257253  \n",
            "3                        False   -1.246819     0.257253  \n",
            "4                        False   -1.246819     0.257253  \n",
            "\n",
            "[5 rows x 210 columns]\n"
          ]
        }
      ]
    }
  ]
}